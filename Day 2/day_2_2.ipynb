{
 "cells": [
  {
   "cell_type": "code",
   "execution_count": 32,
   "metadata": {},
   "outputs": [],
   "source": [
    "f = open(\"day_2.txt\", \"r\")"
   ]
  },
  {
   "cell_type": "code",
   "execution_count": 33,
   "metadata": {},
   "outputs": [],
   "source": [
    "possible_colors = ['red', 'green', 'blue']"
   ]
  },
  {
   "cell_type": "code",
   "execution_count": 34,
   "metadata": {},
   "outputs": [],
   "source": [
    "def compute_values_for_set(set: str):\n",
    "    elems = set.split(' ') \n",
    "    set_colors = {}\n",
    "    for i, elem in enumerate(elems):\n",
    "        for color in possible_colors:\n",
    "            if color in elem:\n",
    "                set_colors[color] = int(elems[i-1])\n",
    "    return set_colors"
   ]
  },
  {
   "cell_type": "code",
   "execution_count": 35,
   "metadata": {},
   "outputs": [],
   "source": [
    "def update_max_values(set, max_values):\n",
    "    values = compute_values_for_set(set)\n",
    "    for col in values:\n",
    "        if values[col] > max_values[col]:\n",
    "            max_values[col] = values[col]\n",
    "    return max_values"
   ]
  },
  {
   "cell_type": "code",
   "execution_count": 36,
   "metadata": {},
   "outputs": [
    {
     "data": {
      "text/plain": [
       "71036"
      ]
     },
     "execution_count": 36,
     "metadata": {},
     "output_type": "execute_result"
    }
   ],
   "source": [
    "res = 0\n",
    "for line in f.readlines():\n",
    "    game_colors = {}\n",
    "    game = line.split(';')\n",
    "    id = int(game[0].split(' ')[1][:-1])\n",
    "    max_values = {'red': 0, 'green': 0, 'blue': 0}\n",
    "    for set in game:  \n",
    "        max_values = update_max_values(set, max_values)   \n",
    "    power = max_values['red'] * max_values['green'] * max_values['blue']\n",
    "    res += power\n",
    "res"
   ]
  }
 ],
 "metadata": {
  "kernelspec": {
   "display_name": "ml",
   "language": "python",
   "name": "python3"
  },
  "language_info": {
   "codemirror_mode": {
    "name": "ipython",
    "version": 3
   },
   "file_extension": ".py",
   "mimetype": "text/x-python",
   "name": "python",
   "nbconvert_exporter": "python",
   "pygments_lexer": "ipython3",
   "version": "3.10.4"
  }
 },
 "nbformat": 4,
 "nbformat_minor": 2
}
