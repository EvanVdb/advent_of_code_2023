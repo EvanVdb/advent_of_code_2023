{
 "cells": [
  {
   "cell_type": "code",
   "execution_count": 155,
   "metadata": {},
   "outputs": [],
   "source": [
    "f = open(\"day_4.txt\", \"r\")"
   ]
  },
  {
   "cell_type": "code",
   "execution_count": 156,
   "metadata": {},
   "outputs": [
    {
     "name": "stdout",
     "output_type": "stream",
     "text": [
      "20117\n"
     ]
    }
   ],
   "source": [
    "sum = 0\n",
    "for line in f.readlines():\n",
    "    line = line[:-1]\n",
    "    card = line.split('|')\n",
    "    winners = card[0].split(' ')[2:-1]\n",
    "    numbers = card[1].split(' ')[1:]\n",
    "    win_card = -1\n",
    "    for win in winners:\n",
    "        if win != \"\" and win in numbers:\n",
    "            win_card += 1\n",
    "    sum += round(2**win_card)\n",
    "print(sum)\n"
   ]
  },
  {
   "cell_type": "code",
   "execution_count": null,
   "metadata": {},
   "outputs": [],
   "source": []
  }
 ],
 "metadata": {
  "kernelspec": {
   "display_name": "Python 3",
   "language": "python",
   "name": "python3"
  },
  "language_info": {
   "codemirror_mode": {
    "name": "ipython",
    "version": 3
   },
   "file_extension": ".py",
   "mimetype": "text/x-python",
   "name": "python",
   "nbconvert_exporter": "python",
   "pygments_lexer": "ipython3",
   "version": "3.9.7"
  }
 },
 "nbformat": 4,
 "nbformat_minor": 2
}
