{
 "cells": [
  {
   "cell_type": "code",
   "execution_count": 126,
   "metadata": {},
   "outputs": [],
   "source": [
    "def init_numbers_of_cards():\n",
    "    numbers_of_cards = {} \n",
    "    f = open(file, \"r\")\n",
    "    for i, _ in enumerate(f.readlines()):\n",
    "        numbers_of_cards[i+1] = 1\n",
    "    return numbers_of_cards"
   ]
  },
  {
   "cell_type": "code",
   "execution_count": 127,
   "metadata": {},
   "outputs": [],
   "source": [
    "def sum_of_cards(numbers_of_cards):\n",
    "    return sum([numbers_of_cards[i] for i in numbers_of_cards])"
   ]
  },
  {
   "cell_type": "code",
   "execution_count": 128,
   "metadata": {},
   "outputs": [],
   "source": [
    "file = \"day_4.txt\""
   ]
  },
  {
   "cell_type": "code",
   "execution_count": 129,
   "metadata": {},
   "outputs": [],
   "source": [
    "numbers_of_cards = init_numbers_of_cards()"
   ]
  },
  {
   "cell_type": "code",
   "execution_count": 130,
   "metadata": {},
   "outputs": [
    {
     "name": "stdout",
     "output_type": "stream",
     "text": [
      "13768818\n"
     ]
    }
   ],
   "source": [
    "f = open(file, \"r\") # reopen because has already been iterated during init of numbers_cards\n",
    "for i, line in enumerate(f.readlines()):\n",
    "    i=i+1\n",
    "    line = line[:-1]\n",
    "    card = line.split('|')\n",
    "    winners = card[0].split(' ')[2:-1]\n",
    "    numbers = card[1].split(' ')[1:]\n",
    "    win_card = 0\n",
    "    for win in winners:\n",
    "        if win != \"\" and win in numbers:\n",
    "            win_card += 1\n",
    "    for j in range(i+1,i+win_card+1):\n",
    "        numbers_of_cards[j] += numbers_of_cards[i]\n",
    "print(sum_of_cards(numbers_of_cards))\n"
   ]
  }
 ],
 "metadata": {
  "kernelspec": {
   "display_name": "Python 3",
   "language": "python",
   "name": "python3"
  },
  "language_info": {
   "codemirror_mode": {
    "name": "ipython",
    "version": 3
   },
   "file_extension": ".py",
   "mimetype": "text/x-python",
   "name": "python",
   "nbconvert_exporter": "python",
   "pygments_lexer": "ipython3",
   "version": "3.10.4"
  }
 },
 "nbformat": 4,
 "nbformat_minor": 2
}
