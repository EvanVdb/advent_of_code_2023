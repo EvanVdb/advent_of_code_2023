{
 "cells": [
  {
   "cell_type": "code",
   "execution_count": 243,
   "metadata": {},
   "outputs": [],
   "source": [
    "f = open(\"day_5.txt\", \"r\")"
   ]
  },
  {
   "cell_type": "markdown",
   "metadata": {},
   "source": []
  },
  {
   "cell_type": "code",
   "execution_count": 244,
   "metadata": {},
   "outputs": [],
   "source": [
    "seeds = f.readline()[:-1].split(' ')[1:]\n",
    "seeds\n",
    "i = 0"
   ]
  },
  {
   "cell_type": "code",
   "execution_count": 245,
   "metadata": {},
   "outputs": [],
   "source": [
    "def create_categ(f):\n",
    "    categories = {}\n",
    "    current_category = \"\"\n",
    "    for line in f.readlines():\n",
    "        begin = line[0]\n",
    "        if not begin.isdigit() and begin != '\\n':\n",
    "            categories[line[:-1]] = []\n",
    "            current_category = line[:-1]\n",
    "        elif begin.isdigit():\n",
    "            categories[current_category].append([int(number) for number in line[:-1].split(' ')])\n",
    "    return categories"
   ]
  },
  {
   "cell_type": "code",
   "execution_count": 246,
   "metadata": {},
   "outputs": [],
   "source": [
    "def create_dict_conversion(categories):\n",
    "    categories_conversion = {}\n",
    "    for category in categories:\n",
    "        categories_conversion[category] = []\n",
    "        for segment in categories[category]:\n",
    "            dst, src, length = segment\n",
    "            drift = dst - src\n",
    "            categories_conversion[category].append([src, src + length - 1, drift])\n",
    "    return categories_conversion\n"
   ]
  },
  {
   "cell_type": "code",
   "execution_count": 247,
   "metadata": {},
   "outputs": [],
   "source": [
    "categories = create_categ(f)\n",
    "categories_conversion = create_dict_conversion(categories)"
   ]
  },
  {
   "cell_type": "code",
   "execution_count": 248,
   "metadata": {},
   "outputs": [],
   "source": [
    "locations = []\n",
    "for seed in seeds:\n",
    "    value = int(seed)\n",
    "    for category in categories_conversion: \n",
    "        for interval in categories_conversion[category]:\n",
    "            if value >= interval[0] and value <= interval[1]:\n",
    "                    value = value + interval[2]\n",
    "    locations.append(value)"
   ]
  },
  {
   "cell_type": "code",
   "execution_count": 249,
   "metadata": {},
   "outputs": [
    {
     "name": "stdout",
     "output_type": "stream",
     "text": [
      "486613012\n"
     ]
    }
   ],
   "source": [
    "print(min(locations))"
   ]
  },
  {
   "cell_type": "code",
   "execution_count": null,
   "metadata": {},
   "outputs": [],
   "source": []
  }
 ],
 "metadata": {
  "kernelspec": {
   "display_name": "ml",
   "language": "python",
   "name": "python3"
  },
  "language_info": {
   "codemirror_mode": {
    "name": "ipython",
    "version": 3
   },
   "file_extension": ".py",
   "mimetype": "text/x-python",
   "name": "python",
   "nbconvert_exporter": "python",
   "pygments_lexer": "ipython3",
   "version": "3.10.4"
  }
 },
 "nbformat": 4,
 "nbformat_minor": 2
}
