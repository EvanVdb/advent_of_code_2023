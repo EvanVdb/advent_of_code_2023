{
 "cells": [
  {
   "cell_type": "code",
   "execution_count": 44,
   "metadata": {},
   "outputs": [],
   "source": [
    "f = open(\"day_6.txt\", \"r\")"
   ]
  },
  {
   "cell_type": "code",
   "execution_count": 45,
   "metadata": {},
   "outputs": [],
   "source": [
    "def get_data(f):\n",
    "    time = f.readline()[:-1]\n",
    "    time = [int(number) for number in time.split(\" \") if number.isdigit()]\n",
    "    distance = f.readline()[:-1]\n",
    "    distance = [int(number) for number in distance.split(\" \") if number.isdigit()]\n",
    "    return time, distance"
   ]
  },
  {
   "cell_type": "code",
   "execution_count": 46,
   "metadata": {},
   "outputs": [],
   "source": [
    "def compute_all_ways_for_a_race(time_race, distance_record):\n",
    "    counter = 0\n",
    "    for i in range(1,time_race):\n",
    "        speed = i\n",
    "        distance = speed * (time_race - i)\n",
    "        if distance > distance_record:\n",
    "            counter += 1\n",
    "    return counter"
   ]
  },
  {
   "cell_type": "code",
   "execution_count": 47,
   "metadata": {},
   "outputs": [],
   "source": [
    "time, distance = get_data(f)"
   ]
  },
  {
   "cell_type": "code",
   "execution_count": 48,
   "metadata": {},
   "outputs": [
    {
     "data": {
      "text/plain": [
       "1084752"
      ]
     },
     "execution_count": 48,
     "metadata": {},
     "output_type": "execute_result"
    }
   ],
   "source": [
    "all_possible_ways_to_win = 1\n",
    "for race_number in range(len(time)):\n",
    "    all_possible_ways_to_win *= compute_all_ways_for_a_race(time[race_number], distance[race_number])\n",
    "all_possible_ways_to_win"
   ]
  }
 ],
 "metadata": {
  "kernelspec": {
   "display_name": "ml",
   "language": "python",
   "name": "python3"
  },
  "language_info": {
   "codemirror_mode": {
    "name": "ipython",
    "version": 3
   },
   "file_extension": ".py",
   "mimetype": "text/x-python",
   "name": "python",
   "nbconvert_exporter": "python",
   "pygments_lexer": "ipython3",
   "version": "3.10.4"
  }
 },
 "nbformat": 4,
 "nbformat_minor": 2
}
