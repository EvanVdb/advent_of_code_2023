{
 "cells": [
  {
   "cell_type": "code",
   "execution_count": 170,
   "metadata": {},
   "outputs": [],
   "source": [
    "import numpy as np"
   ]
  },
  {
   "cell_type": "code",
   "execution_count": 171,
   "metadata": {},
   "outputs": [],
   "source": [
    "f = open(\"day_6.txt\", \"r\")"
   ]
  },
  {
   "cell_type": "code",
   "execution_count": 172,
   "metadata": {},
   "outputs": [],
   "source": [
    "def get_data(f):\n",
    "    time = f.readline()[:-1]\n",
    "    time = [number for number in time.split(\" \") if number.isdigit()]\n",
    "    time = int(\"\".join(time))\n",
    "    distance = f.readline()[:-1]\n",
    "    distance = [number for number in distance.split(\" \") if number.isdigit()]\n",
    "    distance = int(\"\".join(distance))\n",
    "    return time, distance"
   ]
  },
  {
   "cell_type": "code",
   "execution_count": 173,
   "metadata": {},
   "outputs": [],
   "source": [
    "def compute_all_ways_for_a_race(time_race, distance_record):\n",
    "    counter = 0\n",
    "    speeds = np.array(range(1,time_race)).astype(np.int64)\n",
    "    times_left = np.array(time_race).astype(np.int64) - np.array(range(1,time_race)).astype(np.int64)\n",
    "    distances = speeds * times_left\n",
    "    return np.sum(distance_record < distances)"
   ]
  },
  {
   "cell_type": "code",
   "execution_count": 174,
   "metadata": {},
   "outputs": [],
   "source": [
    "time, distance = get_data(f)"
   ]
  },
  {
   "cell_type": "code",
   "execution_count": 175,
   "metadata": {},
   "outputs": [
    {
     "data": {
      "text/plain": [
       "28228952"
      ]
     },
     "execution_count": 175,
     "metadata": {},
     "output_type": "execute_result"
    }
   ],
   "source": [
    "all_possible_ways_to_win = compute_all_ways_for_a_race(time, distance)\n",
    "all_possible_ways_to_win "
   ]
  }
 ],
 "metadata": {
  "kernelspec": {
   "display_name": "ml",
   "language": "python",
   "name": "python3"
  },
  "language_info": {
   "codemirror_mode": {
    "name": "ipython",
    "version": 3
   },
   "file_extension": ".py",
   "mimetype": "text/x-python",
   "name": "python",
   "nbconvert_exporter": "python",
   "pygments_lexer": "ipython3",
   "version": "3.10.4"
  }
 },
 "nbformat": 4,
 "nbformat_minor": 2
}
