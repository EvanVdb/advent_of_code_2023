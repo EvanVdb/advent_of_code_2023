{
 "cells": [
  {
   "cell_type": "code",
   "execution_count": 1,
   "metadata": {},
   "outputs": [],
   "source": [
    "f = open(\"day_1.txt\", \"r\")"
   ]
  },
  {
   "cell_type": "code",
   "execution_count": 2,
   "metadata": {},
   "outputs": [],
   "source": [
    "def get_calibration_value(line: str):\n",
    "    numbers_in_line = []\n",
    "    for i, char in enumerate(line):\n",
    "        if char.isnumeric():\n",
    "            numbers_in_line.append(int(char))\n",
    "    calib_value = numbers_in_line[0] * 10 + numbers_in_line[-1]\n",
    "    return calib_value"
   ]
  },
  {
   "cell_type": "code",
   "execution_count": 3,
   "metadata": {},
   "outputs": [
    {
     "data": {
      "text/plain": [
       "55477"
      ]
     },
     "execution_count": 3,
     "metadata": {},
     "output_type": "execute_result"
    }
   ],
   "source": [
    "res = 0\n",
    "for line in f.readlines():\n",
    "    res += get_calibration_value(line)\n",
    "res\n"
   ]
  }
 ],
 "metadata": {
  "kernelspec": {
   "display_name": "ml",
   "language": "python",
   "name": "python3"
  },
  "language_info": {
   "codemirror_mode": {
    "name": "ipython",
    "version": 3
   },
   "file_extension": ".py",
   "mimetype": "text/x-python",
   "name": "python",
   "nbconvert_exporter": "python",
   "pygments_lexer": "ipython3",
   "version": "3.10.4"
  },
  "orig_nbformat": 4,
  "vscode": {
   "interpreter": {
    "hash": "5e2bbfd425802048fc56808a0a3df44f3855742a9700ba74d34822200c31ab83"
   }
  }
 },
 "nbformat": 4,
 "nbformat_minor": 2
}
